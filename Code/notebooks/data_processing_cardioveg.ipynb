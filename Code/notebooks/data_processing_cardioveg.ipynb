{
 "nbformat": 4,
 "nbformat_minor": 2,
 "metadata": {
  "language_info": {
   "name": "python",
   "codemirror_mode": {
    "name": "ipython",
    "version": 3
   },
   "version": "3.6.9-final"
  },
  "orig_nbformat": 2,
  "file_extension": ".py",
  "mimetype": "text/x-python",
  "name": "python",
  "npconvert_exporter": "python",
  "pygments_lexer": "ipython3",
  "version": 3,
  "kernelspec": {
   "name": "python3",
   "display_name": "Python 3"
  }
 },
 "cells": [
  {
   "cell_type": "code",
   "execution_count": 1,
   "metadata": {},
   "outputs": [],
   "source": [
    "import json\n",
    "import matplotlib.pyplot as plt\n",
    "import matplotlib as mpl\n",
    "import numpy as np"
   ]
  },
  {
   "cell_type": "code",
   "execution_count": 2,
   "metadata": {},
   "outputs": [],
   "source": [
    "with open('../../intermediate_data/all_features_30sec_bfffil_fullday.json', 'r') as JSON:\n",
    "       json_dict_fullday = json.load(JSON)"
   ]
  },
  {
   "cell_type": "code",
   "execution_count": 3,
   "metadata": {},
   "outputs": [],
   "source": [
    "with open('../../intermediate_data/all_features_30sec_bfffill_biking.json', 'r') as JSON:\n",
    "       json_dict_biking = json.load(JSON)"
   ]
  },
  {
   "cell_type": "code",
   "execution_count": 5,
   "metadata": {},
   "outputs": [
    {
     "output_type": "stream",
     "name": "stdout",
     "text": "464\n"
    }
   ],
   "source": [
    "print(len(json_dict_fullday))"
   ]
  },
  {
   "cell_type": "code",
   "execution_count": 7,
   "metadata": {},
   "outputs": [],
   "source": [
    "json_dict_fullday.extend(json_dict_biking)"
   ]
  },
  {
   "cell_type": "code",
   "execution_count": 8,
   "metadata": {
    "tags": [
     "outputPrepend"
    ]
   },
   "outputs": [
    {
     "output_type": "stream",
     "name": "stdout",
     "text": "559\n"
    }
   ],
   "source": [
    "print(len(json_dict_fullday))"
   ]
  },
  {
   "cell_type": "code",
   "execution_count": 10,
   "metadata": {},
   "outputs": [],
   "source": [
    "with open('../../intermediate_data/all_features_30sec_bfffill_all.json', 'w') as fout:\n",
    "    json.dump(json_dict_fullday , fout)"
   ]
  },
  {
   "cell_type": "code",
   "execution_count": 21,
   "metadata": {
    "tags": [
     "outputPrepend"
    ]
   },
   "outputs": [
    {
     "output_type": "stream",
     "name": "stdout",
     "text": "<class 'int'>\n<class 'int'>\n<class 'int'>\n<class 'int'>\n<class 'int'>\n<class 'int'>\n<class 'int'>\n<class 'int'>\n<class 'int'>\n<class 'int'>\n<class 'int'>\n<class 'int'>\n<class 'int'>\n<class 'int'>\n<class 'int'>\n<class 'int'>\n<class 'int'>\n<class 'int'>\n<class 'int'>\n<class 'int'>\n<class 'int'>\n<class 'int'>\n<class 'int'>\n<class 'int'>\n<class 'int'>\n<class 'int'>\n<class 'int'>\n<class 'int'>\n<class 'int'>\n<class 'int'>\n<class 'int'>\n<class 'int'>\n<class 'int'>\n<class 'int'>\n<class 'int'>\n<class 'int'>\n<class 'int'>\n<class 'int'>\n<class 'int'>\n<class 'int'>\n<class 'int'>\n<class 'int'>\n<class 'int'>\n<class 'int'>\n<class 'int'>\n<class 'int'>\n<class 'int'>\n<class 'int'>\n<class 'int'>\n<class 'int'>\n<class 'int'>\n<class 'int'>\n<class 'int'>\n<class 'int'>\n<class 'int'>\n<class 'int'>\n<class 'int'>\n<class 'int'>\n<class 'int'>\n<class 'int'>\n<class 'int'>\n<class 'int'>\n<class 'int'>\n<class 'int'>\n<class 'int'>\n<class 'int'>\n<class 'int'>\n<class 'int'>\n<class 'int'>\n<class 'int'>\n<class 'int'>\n<class 'int'>\n<class 'int'>\n<class 'int'>\n<class 'int'>\n<class 'int'>\n<class 'int'>\n<class 'int'>\n<class 'int'>\n<class 'int'>\n<class 'int'>\n<class 'int'>\n<class 'int'>\n<class 'int'>\n<class 'int'>\n<class 'int'>\n<class 'int'>\n<class 'int'>\n<class 'int'>\n<class 'int'>\n<class 'int'>\n<class 'int'>\n<class 'int'>\n<class 'int'>\n<class 'int'>\n<class 'int'>\n<class 'int'>\n<class 'int'>\n<class 'int'>\n<class 'int'>\n<class 'int'>\n<class 'int'>\n<class 'int'>\n<class 'int'>\n<class 'int'>\n<class 'int'>\n<class 'int'>\n<class 'int'>\n<class 'int'>\n<class 'int'>\n<class 'int'>\n<class 'int'>\n<class 'int'>\n<class 'int'>\n<class 'int'>\n<class 'int'>\n<class 'int'>\n<class 'int'>\n<class 'int'>\n<class 'int'>\n<class 'int'>\n<class 'int'>\n<class 'int'>\n<class 'int'>\n<class 'int'>\n<class 'int'>\n<class 'int'>\n<class 'int'>\n<class 'int'>\n<class 'int'>\n<class 'int'>\n<class 'int'>\n<class 'int'>\n<class 'int'>\n<class 'int'>\n<class 'int'>\n<class 'int'>\n<class 'int'>\n<class 'int'>\n<class 'int'>\n<class 'int'>\n<class 'int'>\n<class 'int'>\n<class 'int'>\n<class 'int'>\n<class 'int'>\n<class 'int'>\n<class 'int'>\n<class 'int'>\n<class 'int'>\n<class 'int'>\n<class 'int'>\n<class 'int'>\n<class 'int'>\n<class 'int'>\n<class 'int'>\n<class 'int'>\n<class 'int'>\n<class 'int'>\n<class 'int'>\n<class 'int'>\n<class 'int'>\n<class 'int'>\n<class 'int'>\n<class 'int'>\n<class 'int'>\n<class 'int'>\n<class 'int'>\n<class 'int'>\n<class 'int'>\n<class 'int'>\n<class 'int'>\n<class 'int'>\n<class 'int'>\n<class 'int'>\n<class 'int'>\n<class 'int'>\n<class 'int'>\n<class 'int'>\n<class 'int'>\n<class 'int'>\n<class 'int'>\n<class 'int'>\n<class 'int'>\n<class 'int'>\n<class 'int'>\n<class 'int'>\n<class 'int'>\n<class 'int'>\n<class 'int'>\n<class 'int'>\n<class 'int'>\n<class 'int'>\n<class 'int'>\n<class 'int'>\n<class 'int'>\n<class 'int'>\n<class 'int'>\n<class 'int'>\n<class 'int'>\n<class 'int'>\n<class 'int'>\n<class 'int'>\n<class 'int'>\n<class 'int'>\n<class 'int'>\n<class 'int'>\n<class 'int'>\n<class 'int'>\n<class 'int'>\n<class 'int'>\n<class 'int'>\n<class 'int'>\n<class 'int'>\n<class 'int'>\n<class 'int'>\n<class 'int'>\n<class 'int'>\n<class 'int'>\n<class 'int'>\n<class 'int'>\n<class 'int'>\n<class 'int'>\n<class 'int'>\n<class 'int'>\n<class 'int'>\n<class 'int'>\n<class 'int'>\n<class 'int'>\n<class 'int'>\n<class 'int'>\n<class 'int'>\n<class 'int'>\n<class 'int'>\n<class 'int'>\n<class 'int'>\n<class 'int'>\n<class 'int'>\n<class 'int'>\n<class 'int'>\n<class 'int'>\n<class 'int'>\n<class 'int'>\n<class 'int'>\n<class 'int'>\n<class 'int'>\n<class 'int'>\n<class 'int'>\n<class 'int'>\n<class 'int'>\n<class 'int'>\n<class 'int'>\n<class 'int'>\n<class 'int'>\n<class 'int'>\n<class 'int'>\n<class 'int'>\n<class 'int'>\n<class 'int'>\n<class 'int'>\n<class 'int'>\n<class 'int'>\n<class 'int'>\n<class 'int'>\n<class 'int'>\n<class 'int'>\n<class 'int'>\n<class 'int'>\n<class 'int'>\n<class 'int'>\n<class 'int'>\n<class 'int'>\n<class 'int'>\n<class 'int'>\n<class 'int'>\n<class 'int'>\n<class 'int'>\n<class 'int'>\n<class 'int'>\n<class 'int'>\n<class 'int'>\n<class 'int'>\n<class 'int'>\n<class 'int'>\n<class 'int'>\n<class 'int'>\n<class 'int'>\n<class 'int'>\n<class 'int'>\n<class 'int'>\n<class 'int'>\n<class 'int'>\n<class 'int'>\n<class 'int'>\n<class 'int'>\n<class 'int'>\n<class 'int'>\n<class 'int'>\n<class 'int'>\n<class 'int'>\n<class 'int'>\n<class 'int'>\n<class 'int'>\n<class 'int'>\n<class 'int'>\n<class 'int'>\n<class 'int'>\n<class 'int'>\n<class 'int'>\n<class 'int'>\n<class 'int'>\n<class 'int'>\n<class 'int'>\n<class 'int'>\n<class 'int'>\n<class 'int'>\n<class 'int'>\n<class 'int'>\n<class 'int'>\n<class 'int'>\n<class 'int'>\n<class 'int'>\n<class 'int'>\n<class 'int'>\n<class 'int'>\n<class 'int'>\n<class 'int'>\n<class 'int'>\n<class 'int'>\n<class 'int'>\n<class 'int'>\n<class 'int'>\n<class 'int'>\n<class 'int'>\n<class 'int'>\n<class 'int'>\n<class 'int'>\n<class 'int'>\n<class 'int'>\n<class 'int'>\n<class 'int'>\n<class 'int'>\n<class 'int'>\n<class 'int'>\n<class 'int'>\n<class 'int'>\n<class 'int'>\n<class 'int'>\n<class 'int'>\n<class 'int'>\n<class 'int'>\n<class 'int'>\n<class 'int'>\n<class 'int'>\n<class 'int'>\n<class 'int'>\n<class 'int'>\n<class 'int'>\n<class 'int'>\n<class 'int'>\n<class 'int'>\n<class 'int'>\n<class 'int'>\n<class 'int'>\n<class 'int'>\n<class 'int'>\n<class 'int'>\n<class 'int'>\n<class 'int'>\n<class 'int'>\n<class 'int'>\n<class 'int'>\n<class 'int'>\n<class 'int'>\n<class 'int'>\n<class 'int'>\n<class 'int'>\n<class 'int'>\n<class 'int'>\n<class 'int'>\n<class 'int'>\n<class 'int'>\n<class 'int'>\n<class 'int'>\n<class 'int'>\n<class 'int'>\n<class 'int'>\n<class 'int'>\n<class 'int'>\n<class 'int'>\n<class 'int'>\n<class 'int'>\n<class 'int'>\n<class 'int'>\n<class 'int'>\n<class 'int'>\n<class 'int'>\n<class 'int'>\n<class 'int'>\n<class 'int'>\n<class 'int'>\n<class 'int'>\n<class 'int'>\n<class 'int'>\n<class 'int'>\n<class 'int'>\n<class 'int'>\n<class 'int'>\n<class 'int'>\n<class 'int'>\n<class 'int'>\n<class 'int'>\n<class 'int'>\n<class 'int'>\n<class 'int'>\n<class 'int'>\n<class 'int'>\n<class 'int'>\n<class 'int'>\n<class 'int'>\n<class 'int'>\n<class 'int'>\n<class 'int'>\n<class 'int'>\n<class 'int'>\n<class 'int'>\n<class 'int'>\n<class 'int'>\n<class 'int'>\n<class 'int'>\n<class 'int'>\n<class 'int'>\n<class 'int'>\n<class 'int'>\n<class 'int'>\n<class 'int'>\n<class 'int'>\n<class 'int'>\n<class 'int'>\n<class 'int'>\n<class 'int'>\n<class 'int'>\n<class 'int'>\n<class 'int'>\n<class 'int'>\n<class 'int'>\n<class 'int'>\n<class 'int'>\n<class 'int'>\n<class 'int'>\n<class 'int'>\n<class 'int'>\n<class 'int'>\n<class 'int'>\n<class 'int'>\n<class 'int'>\n<class 'int'>\n<class 'int'>\n<class 'int'>\n<class 'int'>\n<class 'int'>\n<class 'int'>\n<class 'int'>\n<class 'int'>\n<class 'int'>\n<class 'int'>\n<class 'int'>\n<class 'int'>\n<class 'int'>\n<class 'int'>\n<class 'int'>\n<class 'int'>\n<class 'int'>\n<class 'int'>\n<class 'int'>\n<class 'int'>\n<class 'int'>\n<class 'int'>\n<class 'int'>\n<class 'int'>\n<class 'int'>\n<class 'int'>\n<class 'int'>\n<class 'int'>\n<class 'int'>\n<class 'int'>\n<class 'int'>\n<class 'int'>\n<class 'int'>\n<class 'int'>\n<class 'int'>\n<class 'int'>\n<class 'int'>\n<class 'int'>\n<class 'int'>\n<class 'int'>\n<class 'int'>\n<class 'int'>\n<class 'int'>\n<class 'int'>\n<class 'int'>\n<class 'int'>\n<class 'int'>\n<class 'int'>\n<class 'int'>\n<class 'int'>\n<class 'int'>\n<class 'int'>\n<class 'int'>\n<class 'int'>\n<class 'int'>\n<class 'int'>\n<class 'int'>\n<class 'int'>\n<class 'int'>\n<class 'int'>\n<class 'int'>\n<class 'int'>\n<class 'int'>\n<class 'int'>\n<class 'int'>\n<class 'int'>\n<class 'int'>\n<class 'int'>\n<class 'int'>\n<class 'int'>\n<class 'int'>\n<class 'int'>\n<class 'int'>\n<class 'int'>\n<class 'int'>\n<class 'int'>\n<class 'int'>\n<class 'int'>\n<class 'int'>\n<class 'int'>\n<class 'int'>\n<class 'int'>\n<class 'int'>\n<class 'int'>\n<class 'int'>\n<class 'int'>\n<class 'int'>\n<class 'int'>\n<class 'int'>\n<class 'int'>\n<class 'int'>\n<class 'int'>\n<class 'int'>\n<class 'int'>\n<class 'int'>\n<class 'int'>\n<class 'int'>\n<class 'int'>\n<class 'int'>\n<class 'int'>\n<class 'int'>\n<class 'int'>\n<class 'int'>\n"
    }
   ],
   "source": [
    "for x in json_dict_fullday:\n",
    "    ppg = x['dbp']\n",
    "    print(type(ppg))"
   ]
  },
  {
   "cell_type": "code",
   "execution_count": 16,
   "metadata": {},
   "outputs": [
    {
     "output_type": "execute_result",
     "data": {
      "text/plain": "(array(['CVEG001V0', 'CVEG002V0', 'CVEG005V0', 'CVEG009V0', 'CVEG013V0',\n        'CVEG014V0', 'CVEG015V0', 'CVEG020V0', 'CVEG024V0', 'CVEG028V0',\n        'CVEG031V0', 'CVEG033V0'], dtype='<U9'),\n array([45, 43, 55, 47, 41, 55, 35, 43, 49, 50, 56, 40]))"
     },
     "metadata": {},
     "execution_count": 16
    }
   ],
   "source": [
    "np.unique(list_patientids, return_counts= True)"
   ]
  },
  {
   "cell_type": "code",
   "execution_count": null,
   "metadata": {},
   "outputs": [],
   "source": []
  }
 ]
}